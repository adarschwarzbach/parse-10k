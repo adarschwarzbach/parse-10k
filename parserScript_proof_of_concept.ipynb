{
 "cells": [
  {
   "cell_type": "markdown",
   "id": "fe24e9df",
   "metadata": {},
   "source": [
    "This notebook is a proof of concept for an algorithim that takes as  input the symbol of a US exchange-listed company and retrieves the content of the first section:  \"Item 1. - Business\", from all of the company's available 10-K files in and returns a JSON file containing the elements in the following format: {\"year\": \"<ITEM-1-HTML-ELEMENT>\"}\n",
    "    \n",
    "This proof of creates that desired output for Tesla, using a hand created local file that contains the links to recent 10-K fillings for Tesla. To complete this script as desired would require a method that given a stock symbol can create a file of the form:\n",
    "\n",
    "File is named \"company_symbol\".txt, file contains lines of:\n",
    "\"year SEC_url_for_10k_for_year.htm\"\n",
    "\n",
    "Because of the limitations of the sec-api, the sec url's are the only imput that can be used to parse for item 1 (not local files downloaded with sec_edgar_downloader). This is why I have created a proof of concept not the full script. In my \"Scrapbook\" notebook, there is the begging of a method to query the htm links (using Lucene query syntax) which could potentially be expanded upon to validate the proof of concept.\n",
    "    \n",
    "This script utilizes sec-api.io to do the parsing the 10-k for the HTML item 1. I have purchased a 1 - month startup license for the purpose of this project. "
   ]
  },
  {
   "cell_type": "code",
   "execution_count": 81,
   "id": "44d477c8",
   "metadata": {},
   "outputs": [],
   "source": [
    "# import json library\n",
    "import json\n",
    "\n",
    "#import API\n",
    "from sec_api import ExtractorApi\n",
    "\n",
    "# authenticate API key\n",
    "extractorApi = ExtractorApi(\"b33c5215f9268b5f8356340e5452cff0e52d23d9a52d01e5a956409948f60bb6\")"
   ]
  },
  {
   "cell_type": "code",
   "execution_count": 88,
   "id": "1def43a8",
   "metadata": {},
   "outputs": [],
   "source": [
    "# call to desired json file\n",
    "\n",
    "runScript(\"TSLA\")"
   ]
  },
  {
   "cell_type": "code",
   "execution_count": 86,
   "id": "ba88f1aa",
   "metadata": {},
   "outputs": [],
   "source": [
    "# will write JSON file of {year1: HTML object, year2: HTML object}\n",
    "# file will be named in format of company_symbol.json\n",
    "# will utilize several helper funcitons\n",
    "\n",
    "def runScript(ticker):\n",
    "    fileName = ticker + \".txt\"\n",
    "    dictionary = createDictionary(fileName)\n",
    "    writeJSON(dictionary, ticker)\n",
    "    "
   ]
  },
  {
   "cell_type": "code",
   "execution_count": 84,
   "id": "8388399d",
   "metadata": {},
   "outputs": [],
   "source": [
    "# given a local file of the format line1 = year sec_filling_for_year.htm\n",
    "# this function will return a python dictionary format {\"year\":\"HTML-item\"}\n",
    "\n",
    "def createDictionary(fileName):\n",
    "    dictionary = {}\n",
    "    with open(fileName, \"r\") as file:\n",
    "        for line in file:\n",
    "            temp = line.split(\" \")\n",
    "            year = str(temp[0])\n",
    "            url = str(temp[1])\n",
    "            item1HTML = getHTML(url)\n",
    "            dictionary.update({year:item1HTML})\n",
    "    return dictionary"
   ]
  },
  {
   "cell_type": "code",
   "execution_count": 83,
   "id": "f6f563ac",
   "metadata": {},
   "outputs": [],
   "source": [
    "# re-import API\n",
    "from sec_api import ExtractorApi\n",
    "\n",
    "# re-authenticate API key\n",
    "extractorApi = ExtractorApi(\"b33c5215f9268b5f8356340e5452cff0e52d23d9a52d01e5a956409948f60bb6\")\n",
    "\n",
    "# given a url to the .htm website for a 10-k, returns html object\n",
    "# this html object represents item 1 in the given 10-k\n",
    "\n",
    "def getHTML(url):\n",
    "    item1HTML = extractorApi.get_section(url, \"1\", \"html\")\n",
    "    return(item1HTML)"
   ]
  },
  {
   "cell_type": "code",
   "execution_count": 85,
   "id": "00955c3c",
   "metadata": {},
   "outputs": [],
   "source": [
    "# re-import json\n",
    "import json\n",
    "\n",
    "# this function takes parameter dictionary {\"year\":\"HTML-object\"}, company symbol\n",
    "# it creates a json object file titled \"symbol.json\", representing the dictionary\n",
    "\n",
    "def writeJSON(dictionary, ticker):\n",
    "    newFile = ticker + \".json\"\n",
    "    with open(newFile,\"w\") as file:\n",
    "        json.dump(dictionary, file, indent = 4)\n"
   ]
  }
 ],
 "metadata": {
  "kernelspec": {
   "display_name": "Python 3 (ipykernel)",
   "language": "python",
   "name": "python3"
  },
  "language_info": {
   "codemirror_mode": {
    "name": "ipython",
    "version": 3
   },
   "file_extension": ".py",
   "mimetype": "text/x-python",
   "name": "python",
   "nbconvert_exporter": "python",
   "pygments_lexer": "ipython3",
   "version": "3.10.4"
  }
 },
 "nbformat": 4,
 "nbformat_minor": 5
}
