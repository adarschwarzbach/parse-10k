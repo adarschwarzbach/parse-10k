{
 "cells": [
  {
   "cell_type": "markdown",
   "id": "f6105d38",
   "metadata": {},
   "source": [
    "This file was another attempt to try and parse item 1 for the html from the 10-k. Method does not return desired results, not all of the code is original. "
   ]
  },
  {
   "cell_type": "code",
   "execution_count": null,
   "id": "6960a39a",
   "metadata": {},
   "outputs": [],
   "source": [
    "import requests\n",
    "import lxml.html\n",
    "\n",
    "url = 'https://www.sec.gov/Archives/edgar/data/1591890/000149315218003887/form10-k.htm#a_002'\n",
    "source = requests.get(url)\n",
    "doc = lxml.html.fromstring(source.text)\n",
    "\n",
    "tabs = doc.xpath('//table[./tr/td/font/a[@name=\"a_002\"]]/following-sibling::p/font')\n",
    "#in this filing, Item 1 is hiding in a series of <p> tags following a table with an <a> tag with a \n",
    "#\"name\" attribute which has a value of \"a_002\"\n",
    "flag = ''\n",
    "for i in tabs:\n",
    "    if flag == 'stop':\n",
    "        break\n",
    "    if i.text is not None: #we now start extracting the text from each <p> tag and move to the next\n",
    "        print(i.text_content().strip().replace('\\n',''))\n",
    "    nxt = i.getparent().getnext()\n",
    "    #the following detects when the <p> tags of Item 1 end and the next Item begins and then stops \n",
    "    if str(type(nxt)) != \"<class 'NoneType'>\" and nxt.tag == 'table':\n",
    "        for j in nxt.iterdescendants():\n",
    "           if j.tag == 'a' and j.values()[0]=='a_003':\n",
    "                 # we have encountered the <a> tag with a \"name\" attribute which has a value of \"a_003\", indicated the beginning of the next Item; so we stop\n",
    "                 flag='stop' \n",
    "print(doc)\n"
   ]
  }
 ],
 "metadata": {
  "kernelspec": {
   "display_name": "Python 3 (ipykernel)",
   "language": "python",
   "name": "python3"
  },
  "language_info": {
   "codemirror_mode": {
    "name": "ipython",
    "version": 3
   },
   "file_extension": ".py",
   "mimetype": "text/x-python",
   "name": "python",
   "nbconvert_exporter": "python",
   "pygments_lexer": "ipython3",
   "version": "3.10.4"
  }
 },
 "nbformat": 4,
 "nbformat_minor": 5
}
